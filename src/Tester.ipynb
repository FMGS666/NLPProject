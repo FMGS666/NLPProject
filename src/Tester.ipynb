{
 "cells": [
  {
   "cell_type": "code",
   "execution_count": 1,
   "metadata": {},
   "outputs": [
    {
     "name": "stderr",
     "output_type": "stream",
     "text": [
      "[nltk_data] Downloading package wordnet to\n",
      "[nltk_data]     C:\\Users\\lollo\\AppData\\Roaming\\nltk_data...\n",
      "[nltk_data]   Package wordnet is already up-to-date!\n",
      "[nltk_data] Downloading package punkt to\n",
      "[nltk_data]     C:\\Users\\lollo\\AppData\\Roaming\\nltk_data...\n",
      "[nltk_data]   Package punkt is already up-to-date!\n",
      "[nltk_data] Downloading package averaged_perceptron_tagger to\n",
      "[nltk_data]     C:\\Users\\lollo\\AppData\\Roaming\\nltk_data...\n",
      "[nltk_data]   Package averaged_perceptron_tagger is already up-to-\n",
      "[nltk_data]       date!\n",
      "[nltk_data] Downloading package stopwords to\n",
      "[nltk_data]     C:\\Users\\lollo\\AppData\\Roaming\\nltk_data...\n",
      "[nltk_data]   Package stopwords is already up-to-date!\n"
     ]
    }
   ],
   "source": [
    "from utils.Preprocessing.Preprocessing import *"
   ]
  },
  {
   "cell_type": "code",
   "execution_count": 2,
   "metadata": {},
   "outputs": [],
   "source": [
    "path = r\"..\\data\\traindata.csv\""
   ]
  },
  {
   "cell_type": "code",
   "execution_count": 3,
   "metadata": {},
   "outputs": [],
   "source": [
    "data_loader = DataProcesser(path)"
   ]
  },
  {
   "cell_type": "code",
   "execution_count": 4,
   "metadata": {},
   "outputs": [],
   "source": [
    "data_loader.run_preprocessing()"
   ]
  },
  {
   "cell_type": "code",
   "execution_count": 5,
   "metadata": {},
   "outputs": [
    {
     "data": {
      "text/html": [
       "<div>\n",
       "<style scoped>\n",
       "    .dataframe tbody tr th:only-of-type {\n",
       "        vertical-align: middle;\n",
       "    }\n",
       "\n",
       "    .dataframe tbody tr th {\n",
       "        vertical-align: top;\n",
       "    }\n",
       "\n",
       "    .dataframe thead th {\n",
       "        text-align: right;\n",
       "    }\n",
       "</style>\n",
       "<table border=\"1\" class=\"dataframe\">\n",
       "  <thead>\n",
       "    <tr style=\"text-align: right;\">\n",
       "      <th></th>\n",
       "      <th>polarity</th>\n",
       "      <th>aspect_category</th>\n",
       "      <th>target_term</th>\n",
       "      <th>character_offset</th>\n",
       "      <th>sentence</th>\n",
       "    </tr>\n",
       "  </thead>\n",
       "  <tbody>\n",
       "    <tr>\n",
       "      <th>0</th>\n",
       "      <td>positive</td>\n",
       "      <td>0</td>\n",
       "      <td>seating</td>\n",
       "      <td>18:25</td>\n",
       "      <td>[2039, 958, 1994, 83, 720, 1326, 2628]</td>\n",
       "    </tr>\n",
       "    <tr>\n",
       "      <th>1</th>\n",
       "      <td>positive</td>\n",
       "      <td>0</td>\n",
       "      <td>trattoria</td>\n",
       "      <td>25:34</td>\n",
       "      <td>[2580, 720, 3624, 584, 413, 543, 143, 447]</td>\n",
       "    </tr>\n",
       "    <tr>\n",
       "      <th>2</th>\n",
       "      <td>positive</td>\n",
       "      <td>1</td>\n",
       "      <td>food</td>\n",
       "      <td>98:102</td>\n",
       "      <td>[1893, 965, 1321, 1716, 3277, 1008, 365, 1118,...</td>\n",
       "    </tr>\n",
       "    <tr>\n",
       "      <th>3</th>\n",
       "      <td>negative</td>\n",
       "      <td>2</td>\n",
       "      <td>STAFF</td>\n",
       "      <td>5:10</td>\n",
       "      <td>[222, 3123]</td>\n",
       "    </tr>\n",
       "    <tr>\n",
       "      <th>4</th>\n",
       "      <td>positive</td>\n",
       "      <td>3</td>\n",
       "      <td>menu</td>\n",
       "      <td>4:8</td>\n",
       "      <td>[287, 775, 83, 466, 225, 50, 886, 425]</td>\n",
       "    </tr>\n",
       "    <tr>\n",
       "      <th>...</th>\n",
       "      <td>...</td>\n",
       "      <td>...</td>\n",
       "      <td>...</td>\n",
       "      <td>...</td>\n",
       "      <td>...</td>\n",
       "    </tr>\n",
       "    <tr>\n",
       "      <th>1498</th>\n",
       "      <td>positive</td>\n",
       "      <td>4</td>\n",
       "      <td>expresso</td>\n",
       "      <td>29:37</td>\n",
       "      <td>[358, 261, 1241, 200, 812, 122, 283]</td>\n",
       "    </tr>\n",
       "    <tr>\n",
       "      <th>1499</th>\n",
       "      <td>negative</td>\n",
       "      <td>2</td>\n",
       "      <td>waitress</td>\n",
       "      <td>20:28</td>\n",
       "      <td>[2111, 570, 1556, 664, 967, 544, 1993, 261]</td>\n",
       "    </tr>\n",
       "    <tr>\n",
       "      <th>1500</th>\n",
       "      <td>positive</td>\n",
       "      <td>11</td>\n",
       "      <td>place</td>\n",
       "      <td>12:17</td>\n",
       "      <td>[589, 87, 1972, 2138, 311, 1790, 633, 152]</td>\n",
       "    </tr>\n",
       "    <tr>\n",
       "      <th>1501</th>\n",
       "      <td>positive</td>\n",
       "      <td>6</td>\n",
       "      <td>restaurant</td>\n",
       "      <td>30:40</td>\n",
       "      <td>[225, 1107, 19, 1258, 3169, 3306, 143]</td>\n",
       "    </tr>\n",
       "    <tr>\n",
       "      <th>1502</th>\n",
       "      <td>positive</td>\n",
       "      <td>0</td>\n",
       "      <td>atmosphere</td>\n",
       "      <td>74:84</td>\n",
       "      <td>[751, 400, 229, 966, 1091, 1986, 2414, 3109, 3...</td>\n",
       "    </tr>\n",
       "  </tbody>\n",
       "</table>\n",
       "<p>1503 rows × 5 columns</p>\n",
       "</div>"
      ],
      "text/plain": [
       "      polarity  aspect_category target_term character_offset  \\\n",
       "0     positive                0     seating            18:25   \n",
       "1     positive                0   trattoria            25:34   \n",
       "2     positive                1        food           98:102   \n",
       "3     negative                2       STAFF             5:10   \n",
       "4     positive                3        menu              4:8   \n",
       "...        ...              ...         ...              ...   \n",
       "1498  positive                4    expresso            29:37   \n",
       "1499  negative                2    waitress            20:28   \n",
       "1500  positive               11       place            12:17   \n",
       "1501  positive                6  restaurant            30:40   \n",
       "1502  positive                0  atmosphere            74:84   \n",
       "\n",
       "                                               sentence  \n",
       "0                [2039, 958, 1994, 83, 720, 1326, 2628]  \n",
       "1            [2580, 720, 3624, 584, 413, 543, 143, 447]  \n",
       "2     [1893, 965, 1321, 1716, 3277, 1008, 365, 1118,...  \n",
       "3                                           [222, 3123]  \n",
       "4                [287, 775, 83, 466, 225, 50, 886, 425]  \n",
       "...                                                 ...  \n",
       "1498               [358, 261, 1241, 200, 812, 122, 283]  \n",
       "1499        [2111, 570, 1556, 664, 967, 544, 1993, 261]  \n",
       "1500         [589, 87, 1972, 2138, 311, 1790, 633, 152]  \n",
       "1501             [225, 1107, 19, 1258, 3169, 3306, 143]  \n",
       "1502  [751, 400, 229, 966, 1091, 1986, 2414, 3109, 3...  \n",
       "\n",
       "[1503 rows x 5 columns]"
      ]
     },
     "execution_count": 5,
     "metadata": {},
     "output_type": "execute_result"
    }
   ],
   "source": [
    "data_loader.data_frame"
   ]
  },
  {
   "cell_type": "code",
   "execution_count": 12,
   "metadata": {},
   "outputs": [
    {
     "data": {
      "text/plain": [
       "{'input_ids': tensor([[2039,  958, 1994,   83,  720, 1326, 2628]]),\n",
       " 'token_type_ids': tensor([[0, 0, 0, 0, 0, 0, 0]]),\n",
       " 'attention_mask': tensor([[1, 1, 1, 1, 1, 1, 1]])}"
      ]
     },
     "execution_count": 12,
     "metadata": {},
     "output_type": "execute_result"
    }
   ],
   "source": [
    "import torch\n",
    "device = torch.device('cuda' if torch.cuda.is_available() else 'cpu')\n",
    "\n",
    "inputs = {\"input_ids\": torch.Tensor([data_loader.data_frame[\"sentence\"].iloc[0]]).to(torch.int64).to(device), \n",
    "    \"token_type_ids\": torch.Tensor([[0 for token in data_loader.data_frame[\"sentence\"].iloc[0]]]).to(torch.int64).to(device),\n",
    "    \"attention_mask\": torch.Tensor([[1 for token in data_loader.data_frame[\"sentence\"].iloc[0]]]).to(torch.int64).to(device)\n",
    "}\n",
    "inputs"
   ]
  },
  {
   "cell_type": "code",
   "execution_count": 14,
   "metadata": {},
   "outputs": [
    {
     "data": {
      "text/plain": [
       "False"
      ]
     },
     "execution_count": 14,
     "metadata": {},
     "output_type": "execute_result"
    }
   ],
   "source": [
    "torch.cuda.is_available()"
   ]
  },
  {
   "cell_type": "code",
   "execution_count": 15,
   "metadata": {},
   "outputs": [
    {
     "name": "stderr",
     "output_type": "stream",
     "text": [
      "Some weights of the model checkpoint at bert-base-uncased were not used when initializing BertModel: ['cls.predictions.transform.LayerNorm.weight', 'cls.predictions.transform.dense.weight', 'cls.predictions.decoder.weight', 'cls.predictions.bias', 'cls.predictions.transform.LayerNorm.bias', 'cls.seq_relationship.bias', 'cls.seq_relationship.weight', 'cls.predictions.transform.dense.bias']\n",
      "- This IS expected if you are initializing BertModel from the checkpoint of a model trained on another task or with another architecture (e.g. initializing a BertForSequenceClassification model from a BertForPreTraining model).\n",
      "- This IS NOT expected if you are initializing BertModel from the checkpoint of a model that you expect to be exactly identical (initializing a BertForSequenceClassification model from a BertForSequenceClassification model).\n"
     ]
    }
   ],
   "source": [
    "from transformers import AutoTokenizer, BertModel\n",
    "import torch\n",
    "\n",
    "\n",
    "tokenizer = AutoTokenizer.from_pretrained(\"bert-base-uncased\")\n",
    "model = BertModel.from_pretrained(\"bert-base-uncased\")\n",
    "#inputs = tokenizer(\"Hello, my dog is cute\", return_tensors=\"pt\")\n",
    "outputs = model(**inputs)\n",
    "\n",
    "last_hidden_states = outputs.last_hidden_state"
   ]
  },
  {
   "cell_type": "code",
   "execution_count": 11,
   "metadata": {},
   "outputs": [
    {
     "data": {
      "text/plain": [
       "tensor([[[ 0.2292,  0.0247,  0.4398,  ...,  0.0389,  0.1385, -0.0914],\n",
       "         [ 0.3778,  0.0696,  0.5457,  ..., -0.0701,  0.1796, -0.0886],\n",
       "         [ 0.4490,  0.0824,  0.6670,  ...,  0.0012,  0.1779, -0.0367],\n",
       "         ...,\n",
       "         [ 0.3589,  0.0383,  0.6151,  ..., -0.1256,  0.1407, -0.1375],\n",
       "         [ 0.4575, -0.0194,  0.6854,  ..., -0.1049,  0.1558, -0.1090],\n",
       "         [ 0.4968, -0.2557,  0.6387,  ..., -0.1128,  0.2021, -0.1351]]],\n",
       "       grad_fn=<NativeLayerNormBackward0>)"
      ]
     },
     "execution_count": 11,
     "metadata": {},
     "output_type": "execute_result"
    }
   ],
   "source": [
    "last_hidden_states"
   ]
  }
 ],
 "metadata": {
  "kernelspec": {
   "display_name": "Python 3 (ipykernel)",
   "language": "python",
   "name": "python3"
  },
  "language_info": {
   "codemirror_mode": {
    "name": "ipython",
    "version": 3
   },
   "file_extension": ".py",
   "mimetype": "text/x-python",
   "name": "python",
   "nbconvert_exporter": "python",
   "pygments_lexer": "ipython3",
   "version": "3.10.10"
  },
  "orig_nbformat": 4
 },
 "nbformat": 4,
 "nbformat_minor": 2
}
